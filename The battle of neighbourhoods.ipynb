{
 "cells": [
  {
   "cell_type": "markdown",
   "metadata": {
    "collapsed": true
   },
   "source": [
    "# Capstone the Battle Of The Neighborhoods"
   ]
  },
  {
   "cell_type": "markdown",
   "metadata": {},
   "source": [
    "## Problem statement"
   ]
  },
  {
   "cell_type": "markdown",
   "metadata": {},
   "source": [
    "#### In this undertaking we will attempt to locate an ideal area for Start up . In particular, this report will be focused to partners keen on opening a start up in the locality  and discuus about the funding to Start up\n",
    "#### India is one of the quickest developing economy on the planet. There is a great deal of inventive new businesses coming up in the area and a ton of subsidizing for these new companies too. \n",
    "\n",
    "#### let us investigate the Indian Startup Funding information and see increasingly about the biological system and the progressions after some time\n",
    "\n",
    "#### Since there are heaps of new start uo and well established company close to cities, we will attempt to identify areas that are not effectively swarmed with office spots. We are likewise especially keen on zones with funding spots in the region. We would likewise incline toward areas as near mumbai ,pune,delhi  cirle as could be allowed, accepting that initial two conditions are met. \n",
    "\n",
    "\n",
    "#### We will utilize our data science forces to create a couple of most promissing neighborhoods dependent on this criteria. Focal points of every territory will at that point be obviously communicated with the goal that most ideal last area can be picked. With the help of Data science we can do the analysis part very easily without spending lots of money."
   ]
  },
  {
   "cell_type": "markdown",
   "metadata": {},
   "source": [
    "### DATA:"
   ]
  },
  {
   "cell_type": "markdown",
   "metadata": {},
   "source": [
    "#### Based on light of the meaning of our concern, factors that will impact our decisions are: \n",
    "\n",
    "#### 1)number of existing companies spots in the area \n",
    "\n",
    "#### 2)number of and separation to office spots in the area, assuming any \n",
    "\n",
    "#### 3)separation of a neighborhood from close by territory. \n",
    "\n",
    "#### 4)We chose to utilize normally divided roundabout matrices of areas, revolved around territory focus, to characterize our neighborhood"
   ]
  },
  {
   "cell_type": "markdown",
   "metadata": {},
   "source": [
    "### NEIGHBOURHOOD "
   ]
  },
  {
   "cell_type": "markdown",
   "metadata": {},
   "source": [
    "\n",
    "#### Let's make scope and longitude arrange for centroids of our up-and-comer neighborhoods. We will make a network of cells covering our territory of intrigue which is approx. city based on India. \n",
    "\n",
    "#### Let's first discover the scope and longitude of delhi ,mumbai all metro cities Circle, utilizing the particular, surely understood the location and Google Maps Geocoding API."
   ]
  },
  {
   "cell_type": "markdown",
   "metadata": {},
   "source": [
    "### sOLUTION"
   ]
  },
  {
   "cell_type": "markdown",
   "metadata": {},
   "source": [
    "#### For better growth in the industries the analysis is very important ,with the help of capston how can we implement the data science effective maner is the main focus , ANnalysis parameters are thne cities and the growth factor with respect to them .\n",
    "#### These factor not only going to help in analysis but also it will help in the begigng the new start up.With analysis and evealuation.\n",
    "#### Profound plunge into subsidizing information and determine bits of knowledge into what's to come!"
   ]
  },
  {
   "cell_type": "markdown",
   "metadata": {},
   "source": [
    "# Conclusion\n",
    "\n",
    "#### This result has limitations. The venues used in the project are from the top 10 venues of each neighbourhood, which might neglect neighbourhoods with more venues but less frequency of start up and investor.\n",
    "\n",
    "#### Secondly, we use 10km as our parameter of searching venues. This can be wrong if our clients don’t have a car or there’s no public transition to those venues"
   ]
  },
  {
   "cell_type": "code",
   "execution_count": null,
   "metadata": {},
   "outputs": [],
   "source": []
  }
 ],
 "metadata": {
  "kernelspec": {
   "display_name": "Python 3.6",
   "language": "python",
   "name": "python3"
  },
  "language_info": {
   "codemirror_mode": {
    "name": "ipython",
    "version": 3
   },
   "file_extension": ".py",
   "mimetype": "text/x-python",
   "name": "python",
   "nbconvert_exporter": "python",
   "pygments_lexer": "ipython3",
   "version": "3.6.8"
  }
 },
 "nbformat": 4,
 "nbformat_minor": 1
}
